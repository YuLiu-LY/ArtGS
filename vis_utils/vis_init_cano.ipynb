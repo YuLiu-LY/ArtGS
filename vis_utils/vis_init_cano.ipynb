{
 "cells": [
  {
   "cell_type": "code",
   "execution_count": null,
   "metadata": {},
   "outputs": [
    {
     "name": "stdout",
     "output_type": "stream",
     "text": [
      "Jupyter environment detected. Enabling Open3D WebVisualizer.\n",
      "[Open3D INFO] WebRTC GUI backend enabled.\n",
      "[Open3D INFO] WebRTCWindowSystem: HTTP handshake server disabled.\n"
     ]
    }
   ],
   "source": [
    "import sys\n",
    "sys.path.append('../')\n",
    "import numpy as np\n",
    "import matplotlib.pyplot as plt\n",
    "import open3d as o3d\n",
    "import torch\n",
    "import seaborn as sns\n",
    "import json\n",
    "\n",
    "from scene.artgs import ArtGS\n",
    "from scene.gaussian_model import GaussianModel"
   ]
  },
  {
   "cell_type": "code",
   "execution_count": 2,
   "metadata": {},
   "outputs": [],
   "source": [
    "def visualize_point_cloud(xyz, rgb=None, save_path=None):\n",
    "    \"\"\"\n",
    "    xyz: (N, 3) numpy array\n",
    "    rgb: (N, 3) numpy array\n",
    "    \"\"\"\n",
    "    point_cloud = o3d.geometry.PointCloud()\n",
    "    point_cloud.points = o3d.utility.Vector3dVector(xyz)\n",
    "    if rgb is not None:\n",
    "        point_cloud.colors = o3d.utility.Vector3dVector(rgb)\n",
    "    o3d.visualization.draw_geometries([point_cloud], )\n",
    "    if save_path is not None:\n",
    "        o3d.io.write_point_cloud(save_path, point_cloud)"
   ]
  },
  {
   "cell_type": "markdown",
   "metadata": {},
   "source": [
    "## Show Initialized Cano GS and Centers"
   ]
  },
  {
   "cell_type": "code",
   "execution_count": null,
   "metadata": {},
   "outputs": [
    {
     "name": "stdout",
     "output_type": "stream",
     "text": [
      "(26571, 3) (26571, 3)\n",
      "(5000, 3) (5000, 3)\n"
     ]
    }
   ],
   "source": [
    "dataset = 'paris'\n",
    "# subset = 'sapien'\n",
    "# scenes = 'foldchair_102255 washer_103776 fridge_10905 blade_103706 storage_45135 oven_101917 stapler_103111 USB_100109 laptop_10211 scissor_11100'.split(' ')\n",
    "subset = 'realscan'\n",
    "scenes = 'real_fridge real_storage'.split(' ')\n",
    "\n",
    "# dataset = 'dta'\n",
    "# subset = 'sapien'\n",
    "# scenes = 'fridge_10489 storage_47254'.split(' ')\n",
    "\n",
    "dataset = 'artgs'\n",
    "subset = 'sapien'\n",
    "# scenes = 'oven_101908 table_25493 storage_45503 storage_47648 table_31249'.split(' ')\n",
    "scene = 'table_31249'\n",
    "with torch.no_grad():\n",
    "    path = f'../outputs/{dataset}/{subset}/{scene}/coarse_gs/point_cloud/iteration_10000/point_cloud.ply'\n",
    "    gs = GaussianModel(3)\n",
    "    gs.load_ply(path)\n",
    "    xyz, color = gs.get_xyz.cpu().numpy(), gs.get_rgb.cpu().numpy()\n",
    "    print(xyz.shape, color.shape)\n",
    "    center_info = np.load(f'../outputs/{dataset}/{subset}/{scene}/coarse_gs/point_cloud/iteration_10000/center_info.npy')\n",
    "    center = center_info[:, :3]\n",
    "    num_slots = center.shape[0]\n",
    "\n",
    "    # mannually correct the center\n",
    "    \n",
    "    # center[1] += np.array([0., 0., 0.])\n",
    "    # center[2] += np.array([0., 0., 0.])\n",
    "    # center_info[:, :3] = center\n",
    "    # center_info[:, 3] /= 4\n",
    "    # np.save(f'outputs/{dataset}/{subset}/{scene}/coarse_gs/point_cloud/iteration_10000/center_info.npy', center_info)\n",
    "    \n",
    "    pallete = np.array(sns.color_palette(\"hls\", num_slots))\n",
    "    plt.imsave('pallete.png', pallete[None])\n",
    "    xyz_center = (center[None] + np.random.randn(1000, center.shape[0], 3) * 0.01).reshape(-1, 3)\n",
    "    rgb_center = pallete[None].repeat(1000, 0).reshape(-1, 3)\n",
    "    print(xyz_center.shape, rgb_center.shape)\n",
    "    xyz_vis = np.concatenate([xyz, xyz_center])\n",
    "    rgb_vis = np.concatenate([color, rgb_center])\n",
    "    visualize_point_cloud(xyz_vis, rgb_vis)"
   ]
  },
  {
   "cell_type": "markdown",
   "metadata": {},
   "source": [
    "## Show Initialized Cano GS and Centers with Segmentations"
   ]
  },
  {
   "cell_type": "code",
   "execution_count": null,
   "metadata": {},
   "outputs": [
    {
     "name": "stdout",
     "output_type": "stream",
     "text": [
      "Update current level of HashGrid to 12\n"
     ]
    }
   ],
   "source": [
    "class Args(object):\n",
    "    def __init__(self):\n",
    "        self.slot_size = 32\n",
    "        self.joint_types = 's,r'\n",
    "        self.num_slots = len(self.joint_types.split(','))\n",
    "        self.gumbel = True\n",
    "        self.scale_factor = 1.\n",
    "        self.use_art_type_prior = True\n",
    "        self.shift_weight = 0.5\n",
    "        self.tau_decay_steps = 10000\n",
    "args = Args()\n",
    "joint_types = json.load(open(f'../arguments/joint_types_cgs.json', 'r'))[dataset][subset][scene]\n",
    "args.joint_types = joint_types\n",
    "args.num_slots = len(joint_types.split(','))\n",
    "num_slots = args.num_slots\n",
    "pallete = np.array(sns.color_palette(\"hls\", num_slots))\n",
    "pallete[0] = [0, 0, 0]\n",
    "\n",
    "deform = ArtGS(args).cuda()\n",
    "center, scale = deform.seg_model.init_from_file(f'../outputs/{dataset}/{subset}/{scene}/coarse_gs/point_cloud/iteration_10000/center_info.npy')\n",
    "deform.update(20000)\n",
    "deform.eval()   \n",
    "\n",
    "with torch.no_grad():\n",
    "    mask = deform.get_mask(torch.tensor(xyz).cuda()).argmax(1).cpu().numpy()\n",
    "    m = mask == 0\n",
    "    xyz = np.concatenate([xyz[m], xyz[~m]])\n",
    "    color = np.concatenate([color[m], color[~m]])\n",
    "    mask = np.concatenate([mask[m], mask[~m]])\n",
    "    color = pallete[mask]\n",
    "    center = center.cpu().numpy()\n",
    "    xyz_center = (center[None] + np.random.randn(1000, center.shape[0], 3) * 0.01).reshape(-1, 3)\n",
    "    rgb_center = pallete[None].repeat(1000, 0).reshape(-1, 3)\n",
    "    xyz_vis = np.concatenate([xyz, xyz_center])\n",
    "    rgb_vis = np.concatenate([color, rgb_center])\n",
    "    visualize_point_cloud(xyz_vis, rgb_vis)"
   ]
  }
 ],
 "metadata": {
  "kernelspec": {
   "display_name": "ags",
   "language": "python",
   "name": "python3"
  },
  "language_info": {
   "codemirror_mode": {
    "name": "ipython",
    "version": 3
   },
   "file_extension": ".py",
   "mimetype": "text/x-python",
   "name": "python",
   "nbconvert_exporter": "python",
   "pygments_lexer": "ipython3",
   "version": "3.9.19"
  }
 },
 "nbformat": 4,
 "nbformat_minor": 4
}
