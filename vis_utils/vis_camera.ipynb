{
 "cells": [
  {
   "cell_type": "code",
   "execution_count": null,
   "metadata": {},
   "outputs": [],
   "source": [
    "import sys\n",
    "sys.path.append('../')\n",
    "from PIL import Image\n",
    "import numpy as np\n",
    "import matplotlib.pyplot as plt\n",
    "import json\n",
    "import pytransform3d.transformations as pt\n",
    "import pytransform3d.camera as pc\n",
    "import pytransform3d.visualizer as pv\n",
    "from data_tools.process_utils import fov2focal, generate_pcd\n",
    "\n",
    "dataset = 'paris'\n",
    "subset = 'sapien'\n",
    "scenes = 'foldchair_102255 washer_103776 fridge_10905 blade_103706 storage_45135 oven_101917 stapler_103111 USB_100109 laptop_10211 scissor_11100'.split(' ')\n",
    "# subset = 'realscan'\n",
    "# scenes = 'real_fridge real_storage'.split(' ')\n",
    "# scene = 'foldchair_102255'\n",
    "\n",
    "# dataset = 'dta'\n",
    "# subset = 'sapien'\n",
    "# scenes = 'fridge_10489 storage_47254'.split(' ')\n",
    "# scene = 'fridge_10489'\n",
    "\n",
    "dataset = 'artgs'\n",
    "subset = 'sapien'\n",
    "scenes = 'oven_101908 table_25493 storage_45503 storage_47648 table_31249'.split(' ')\n",
    "scene = 'oven_101908'\n",
    "\n",
    "filename = f'../data/{dataset}/{subset}/{scene}/transforms_train.json'\n",
    "info = json.load(open(filename, 'r'))\n",
    "\n",
    "poses = [np.array(frame['transform_matrix'], np.float32) for frame in info['frames']]\n",
    "\n",
    "w, h = Image.open(f'../data/{dataset}/{subset}/{scene}/start/train/rgba/0000.png').size\n",
    "fovx, fovy = info['camera_angle_x'], info['camera_angle_y']\n",
    "K = np.zeros((3, 3))\n",
    "K[0, 0] = fov2focal(fovx, w)\n",
    "K[1, 1] = fov2focal(fovy, h)\n",
    "K[0, 2] = w // 2\n",
    "K[1, 2] = h // 2\n",
    "K[2, 2] = 1\n",
    "sensor_size = (float(w), float(h))\n",
    "\n",
    "fig = pv.figure()\n",
    "mesh_filename = f'../data/{dataset}/{subset}/{scene}/gt/start/start_rotate.ply'\n",
    "fig.plot_mesh(mesh_filename)\n",
    "\n",
    "ill_poses = []\n",
    "for i, pose in enumerate(poses):\n",
    "    try:\n",
    "        fig.plot_transform(A2B=pose, s=0.1)\n",
    "        fig.plot_camera(M=K, cam2world=pose, virtual_image_distance=0.1, sensor_size=sensor_size)\n",
    "    except:\n",
    "        ill_poses.append((i, pose))\n",
    "fig.show()"
   ]
  }
 ],
 "metadata": {
  "kernelspec": {
   "display_name": "ags",
   "language": "python",
   "name": "python3"
  },
  "language_info": {
   "codemirror_mode": {
    "name": "ipython",
    "version": 3
   },
   "file_extension": ".py",
   "mimetype": "text/x-python",
   "name": "python",
   "nbconvert_exporter": "python",
   "pygments_lexer": "ipython3",
   "version": "3.9.19"
  }
 },
 "nbformat": 4,
 "nbformat_minor": 4
}
