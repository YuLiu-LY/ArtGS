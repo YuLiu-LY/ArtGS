{
 "cells": [
  {
   "cell_type": "code",
   "execution_count": 2,
   "metadata": {},
   "outputs": [],
   "source": [
    "import os\n",
    "from moviepy.editor import VideoFileClip\n",
    "import numpy as np\n",
    "import cv2\n",
    "from glob import glob\n",
    "\n",
    "\n",
    "def video2gif(video_file):\n",
    "    gif_file = video_file.replace('.mp4', '.gif').replace('video', 'gif')\n",
    "    clip = VideoFileClip(video_file)\n",
    "    clip.speedx(2).write_gif(gif_file)\n",
    "    clip.close()\n",
    "\n",
    "def generate_video_ffmpeg(img_path, video_name, fps=30):\n",
    "    if os.path.exists(video_name):\n",
    "        os.system(f'rm {video_name}')\n",
    "    os.system(f'ffmpeg -framerate {fps} -vsync 0 -i {img_path}' + '/%04d.png -c:v libx264 -crf 0 ' + video_name)\n",
    "\n",
    "\n",
    "def generate_video(img_path, video_name, fps=15, brighten=False):\n",
    "    # imgs: list of img tensors [3, H, W]\n",
    "    imgs = sorted(glob(f'{img_path}/*.png'))\n",
    "    imgs = [cv2.imread(img, -1) for img in imgs] # rgba\n",
    "    # transfer to rgb with white background\n",
    "    for i, img in enumerate(imgs):\n",
    "        if img is None:\n",
    "            print(f'img {i} is None')\n",
    "            continue\n",
    "        if img.shape[-1] == 4:\n",
    "            imgs[i] = img[:, :, :3] * (img[:, :, 3:4] / 255.0) + 255 * (1 - img[:, :, 3:4] / 255.0)\n",
    "            imgs[i] = imgs[i].astype(np.uint8)\n",
    "    height, width = imgs[0].shape[0], imgs[0].shape[1]\n",
    "    fourcc = cv2.VideoWriter_fourcc(*'mp4v')\n",
    "    video = cv2.VideoWriter(video_name, fourcc, fps, (width, height))\n",
    "\n",
    "    for img in imgs:\n",
    "        if brighten:\n",
    "            img = cv2.convertScaleAbs(img, alpha=1.5, beta=1)\n",
    "        video.write(img)\n",
    "    video.release()"
   ]
  },
  {
   "cell_type": "code",
   "execution_count": null,
   "metadata": {},
   "outputs": [
    {
     "name": "stdout",
     "output_type": "stream",
     "text": [
      "../data/artgs/sapien/storage_47648/start/train/rgba\n",
      "MoviePy - Building file ../data/artgs/sapien/storage_47648/start/train/storage_47648.gif with imageio.\n"
     ]
    },
    {
     "name": "stderr",
     "output_type": "stream",
     "text": [
      "                                                             \r"
     ]
    }
   ],
   "source": [
    "dataset = 'artgs'\n",
    "subset = 'sapien'\n",
    "scene = 'storage_47648'\n",
    "file_dir = f\"../outputs/{dataset}/{subset}/{scene}/artgs/train/ours_best\"\n",
    "img_path = f\".{file_dir}/renders/-1\"\n",
    "print(img_path)\n",
    "video_file = f'{file_dir}/{scene}.mp4'\n",
    "if not os.path.exists(video_file):\n",
    "    generate_video(img_path, video_file, 30)\n",
    "    video2gif(video_file)"
   ]
  }
 ],
 "metadata": {
  "kernelspec": {
   "display_name": "ags",
   "language": "python",
   "name": "python3"
  },
  "language_info": {
   "codemirror_mode": {
    "name": "ipython",
    "version": 3
   },
   "file_extension": ".py",
   "mimetype": "text/x-python",
   "name": "python",
   "nbconvert_exporter": "python",
   "pygments_lexer": "ipython3",
   "version": "3.9.19"
  }
 },
 "nbformat": 4,
 "nbformat_minor": 4
}
