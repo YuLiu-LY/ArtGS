{
 "cells": [
  {
   "cell_type": "code",
   "execution_count": null,
   "metadata": {},
   "outputs": [],
   "source": [
    "import sys\n",
    "sys.path.append('../')\n",
    "import numpy as np\n",
    "import open3d as o3d\n",
    "import torch\n",
    "import seaborn as sns\n",
    "import json\n",
    "\n",
    "from scene.gaussian_model import GaussianModel\n",
    "from scene.artgs import ArtGS"
   ]
  },
  {
   "cell_type": "code",
   "execution_count": 21,
   "metadata": {},
   "outputs": [],
   "source": [
    "def visualize_point_cloud(xyz, rgb=None, save_path=None):\n",
    "    \"\"\"\n",
    "    xyz: (N, 3) numpy array\n",
    "    rgb: (N, 3) numpy array\n",
    "    \"\"\"\n",
    "    point_cloud = o3d.geometry.PointCloud()\n",
    "    point_cloud.points = o3d.utility.Vector3dVector(xyz)\n",
    "    if rgb is not None:\n",
    "        point_cloud.colors = o3d.utility.Vector3dVector(rgb)\n",
    "    o3d.visualization.draw_geometries([point_cloud], )\n",
    "    if save_path is not None:\n",
    "        o3d.io.write_point_cloud(save_path, point_cloud)"
   ]
  },
  {
   "cell_type": "code",
   "execution_count": 22,
   "metadata": {},
   "outputs": [
    {
     "name": "stdout",
     "output_type": "stream",
     "text": [
      "../outputs/artgs/sapien/table_31249/artgs\n"
     ]
    }
   ],
   "source": [
    "dataset = \"artgs\"\n",
    "subset = \"sapien\"\n",
    "scene = \"table_31249\"\n",
    "dir = f\"../outputs/{dataset}/{subset}/{scene}\"\n",
    "name = \"artgs\"\n",
    "local_dir = f'{dir}/{name}'\n",
    "print(local_dir)"
   ]
  },
  {
   "cell_type": "code",
   "execution_count": 23,
   "metadata": {},
   "outputs": [
    {
     "name": "stdout",
     "output_type": "stream",
     "text": [
      "s,r,r,p,p\n"
     ]
    }
   ],
   "source": [
    "joint_types = json.load(open(f'../arguments/joint_types_cgs.json', 'r'))[dataset][subset][scene]\n",
    "print(joint_types)\n",
    "class Args(object):\n",
    "    def __init__(self):\n",
    "        self.slot_size = 32\n",
    "        self.joint_types = joint_types\n",
    "        self.num_slots = len(self.joint_types.split(','))\n",
    "        self.gumbel = True\n",
    "        self.scale_factor = 1.\n",
    "        self.use_art_type_prior = True\n",
    "        self.shift_weight = 0.5\n",
    "        self.tau_decay_steps = 10000\n",
    "args = Args()\n",
    "joint_types = args.joint_types.split(',')\n",
    "pallete = np.array(sns.color_palette(\"hls\", args.num_slots))\n",
    "pallete[0] = [0, 0, 0]"
   ]
  },
  {
   "cell_type": "markdown",
   "metadata": {},
   "source": [
    "## Visualize Part Segmentation and Joint Axis"
   ]
  },
  {
   "cell_type": "code",
   "execution_count": null,
   "metadata": {},
   "outputs": [
    {
     "ename": "NameError",
     "evalue": "name 'GaussianModel' is not defined",
     "output_type": "error",
     "traceback": [
      "\u001b[0;31m---------------------------------------------------------------------------\u001b[0m",
      "\u001b[0;31mNameError\u001b[0m                                 Traceback (most recent call last)",
      "Cell \u001b[0;32mIn[1], line 3\u001b[0m\n\u001b[1;32m      1\u001b[0m loaded_iter \u001b[38;5;241m=\u001b[39m \u001b[38;5;124m'\u001b[39m\u001b[38;5;124m5000\u001b[39m\u001b[38;5;124m'\u001b[39m\n\u001b[1;32m      2\u001b[0m ckpt_dir \u001b[38;5;241m=\u001b[39m \u001b[38;5;124mf\u001b[39m\u001b[38;5;124m'\u001b[39m\u001b[38;5;124miteration_\u001b[39m\u001b[38;5;132;01m{\u001b[39;00mloaded_iter\u001b[38;5;132;01m}\u001b[39;00m\u001b[38;5;124m'\u001b[39m\n\u001b[0;32m----> 3\u001b[0m gs \u001b[38;5;241m=\u001b[39m \u001b[43mGaussianModel\u001b[49m(\u001b[38;5;241m3\u001b[39m)\n\u001b[1;32m      4\u001b[0m gs\u001b[38;5;241m.\u001b[39mload_ply(\u001b[38;5;124mf\u001b[39m\u001b[38;5;124m'\u001b[39m\u001b[38;5;132;01m{\u001b[39;00mlocal_dir\u001b[38;5;132;01m}\u001b[39;00m\u001b[38;5;124m/point_cloud/\u001b[39m\u001b[38;5;132;01m{\u001b[39;00mckpt_dir\u001b[38;5;132;01m}\u001b[39;00m\u001b[38;5;124m/point_cloud.ply\u001b[39m\u001b[38;5;124m'\u001b[39m)\n\u001b[1;32m      5\u001b[0m deform \u001b[38;5;241m=\u001b[39m ArtGS(args)\u001b[38;5;241m.\u001b[39mcuda()\n",
      "\u001b[0;31mNameError\u001b[0m: name 'GaussianModel' is not defined"
     ]
    }
   ],
   "source": [
    "loaded_iter = 'best'\n",
    "ckpt_dir = f'iteration_{loaded_iter}'\n",
    "gs = GaussianModel(3)\n",
    "gs.load_ply(f'{local_dir}/point_cloud/{ckpt_dir}/point_cloud.ply')\n",
    "deform = ArtGS(args).cuda()\n",
    "deform.load_state_dict(torch.load(f'{local_dir}/deform/{ckpt_dir}/deform.pth', weights_only=True))\n",
    "deform.update(20000)\n",
    "deform.eval()   \n",
    "with torch.no_grad():\n",
    "    xyz = gs.get_xyz.cpu().numpy()\n",
    "    print(xyz.shape)\n",
    "    mask = deform.get_mask(gs.get_xyz).argmax(1).cpu().numpy()\n",
    "    color = pallete[mask]\n",
    "    center = deform.seg_model.center.detach().cpu().numpy()\n",
    "    xyz_center = (center[None] + np.random.randn(1000, center.shape[0], 3) * 0.01).reshape(-1, 3)\n",
    "    rgb_center = pallete[None].repeat(1000, 0).reshape(-1, 3)\n",
    "\n",
    "    joint_info_list = deform.get_joint_param(joint_types[1:])\n",
    "    centers = deform.seg_model.center.detach().cpu().numpy()\n",
    "    axises = []\n",
    "    for i, joint_info in enumerate(joint_info_list):\n",
    "        direction = joint_info['axis_direction']\n",
    "        pos = joint_info['axis_position']\n",
    "        if joint_types[i+1] == 'p':\n",
    "            pos = centers[i+1]\n",
    "        pos += direction * np.dot(direction, centers[i+1] - pos)\n",
    "        # visualize the joint\n",
    "        axis_points = pos[None] + direction[None] * np.linspace(-1, 1, 1000)[:, None]\n",
    "        axis_colors = pallete[i+1][None].repeat(1000, 0)\n",
    "        axis = np.concatenate([axis_points, axis_colors], axis=1)\n",
    "        axises.append(axis)\n",
    "    axis = np.concatenate(axises)\n",
    "    \n",
    "    xyz_vis = np.concatenate([xyz, xyz_center])\n",
    "    color_vis = np.concatenate([color, rgb_center])\n",
    "    visualize_point_cloud(xyz_vis, color_vis)"
   ]
  }
 ],
 "metadata": {
  "kernelspec": {
   "display_name": "ags",
   "language": "python",
   "name": "python3"
  },
  "language_info": {
   "codemirror_mode": {
    "name": "ipython",
    "version": 3
   },
   "file_extension": ".py",
   "mimetype": "text/x-python",
   "name": "python",
   "nbconvert_exporter": "python",
   "pygments_lexer": "ipython3",
   "version": "3.9.19"
  }
 },
 "nbformat": 4,
 "nbformat_minor": 4
}
